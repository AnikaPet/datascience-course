{
 "cells": [
  {
   "cell_type": "code",
   "execution_count": 85,
   "metadata": {},
   "outputs": [],
   "source": [
    "import numpy as np\n",
    "import pandas as pd "
   ]
  },
  {
   "cell_type": "code",
   "execution_count": 86,
   "metadata": {},
   "outputs": [],
   "source": [
    "df = pd.read_csv(\"../IT Salary Survey EU  2020.csv\")"
   ]
  },
  {
   "cell_type": "code",
   "execution_count": 87,
   "metadata": {},
   "outputs": [],
   "source": [
    "df['Timestamp1']=pd.to_datetime(df['Timestamp'], format = '%d/%m/%Y %H:%M:%S')"
   ]
  },
  {
   "cell_type": "code",
   "execution_count": 88,
   "metadata": {},
   "outputs": [],
   "source": [
    "df['Timestamp']=df['Timestamp1'].dt.strftime('%Y-%m-%d')\n",
    "df['Timestamp']=pd.to_datetime(df['Timestamp'], format = '%Y-%m-%d')"
   ]
  },
  {
   "cell_type": "code",
   "execution_count": 89,
   "metadata": {},
   "outputs": [],
   "source": [
    "# Let's apply some string functions to clean data. \n",
    "\n",
    "df['Other technologies/programming languages you use often'].unique()\n",
    "# remove trailing/leading whitespaces\n",
    "df['Other technologies/programming languages you use often']=df['Other technologies/programming languages you use often'].str.strip()\n",
    "df['Other technologies/programming languages you use often']=df['Other technologies/programming languages you use often'].str.replace('/',',').replace(' ,',',')\n",
    "df['Other technologies/programming languages you use often']=df['Other technologies/programming languages you use often'].str.replace(';',',')"
   ]
  },
  {
   "cell_type": "code",
   "execution_count": 90,
   "metadata": {},
   "outputs": [],
   "source": [
    "df['Company size'].unique()\n",
    "\n",
    "df.replace({\n",
    "    'Company size': {\n",
    "        'up to 10': '0-10',\n",
    "        '1000+': '1000-9999',\n",
    "    }\n",
    "},inplace=True)"
   ]
  },
  {
   "cell_type": "code",
   "execution_count": 91,
   "metadata": {},
   "outputs": [],
   "source": [
    "df.replace({\n",
    "    'Total years of experience': {\n",
    "        '1 (as QA Engineer) / 11 in total': '11',\n",
    "        '6 (not as a data scientist, but as a lab scientist)': '6',\n",
    "        '15, thereof 8 as CTO':'15',\n",
    "        'less than year': '1'\n",
    "    }\n",
    "},inplace=True)"
   ]
  },
  {
   "cell_type": "code",
   "execution_count": 92,
   "metadata": {},
   "outputs": [],
   "source": [
    "df.replace({\n",
    "    'Employment status': {\n",
    "       'Werkstudent': 'Working Student',\n",
    "        'working student': 'Working Student',\n",
    "        \"full-time, but 32 hours per week (it was my request, I'm a student)\": 'Full-time employee'\n",
    "    }\n",
    "},inplace=True)\n"
   ]
  },
  {
   "cell_type": "code",
   "execution_count": 93,
   "metadata": {},
   "outputs": [],
   "source": [
    "df.replace({\n",
    "    'Number of vacation days': {\n",
    "        'unlimited': 'Unlimited',\n",
    "        '~25': '25',\n",
    "        '24 labour days': '24',\n",
    "        '23+': '23',\n",
    "        '30 in contract (but theoretically unlimited)': '30'\n",
    "    }\n",
    "},inplace=True)"
   ]
  },
  {
   "cell_type": "code",
   "execution_count": 94,
   "metadata": {},
   "outputs": [],
   "source": [
    "df['City'].unique()\n",
    "\n",
    "df.replace({\n",
    "    'City': {\n",
    "        'Dusseldorf': 'Düsseldorf',\n",
    "        'Duesseldorf': 'Düsseldorf',\n",
    "        'Dusseldurf': 'Düsseldorf',\n",
    "        'Warsaw, Poland': 'Warsaw',\n",
    "        'warsaw': 'Warsaw',\n",
    "        'Nuremberg': 'Nürnberg',\n",
    "        'Prefer not to say': np.nan,\n",
    "        'Zurich': 'Zürich',\n",
    "        'Kiev': 'Kyiv'\n",
    "    }\n",
    "},inplace=True)\n"
   ]
  },
  {
   "cell_type": "code",
   "execution_count": 95,
   "metadata": {},
   "outputs": [],
   "source": [
    "df['Your main technology / programming language'].unique()\n",
    "df['Your main technology / programming language'] = df['Your main technology / programming language'].str.strip()\n",
    "df['Your main technology / programming language'] = df['Your main technology / programming language'].str.replace('  ',' ')\n",
    "df['Your main technology / programming language'] = df['Your main technology / programming language'].str.replace('/',',').replace(' ,',',')"
   ]
  },
  {
   "cell_type": "code",
   "execution_count": 96,
   "metadata": {},
   "outputs": [
    {
     "data": {
      "text/plain": [
       "array(['SENIOR', 'LEAD', 'JUNIOR', 'MIDDLE', 'HEAD', nan, 'NO LEVEL',\n",
       "       'VP', 'MANAGER', 'WORK CENTER MANAGER', 'CTO', 'DIRECTOR', 'KEY',\n",
       "       'C-LEVEL EXECUTIVE MANAGER', 'PRINCIPAL', 'INTERN', 'STUDENT',\n",
       "       'C-LEVEL', 'WORKING STUDENT', 'ENTRY LEVEL', 'SELF EMPLOYED'],\n",
       "      dtype=object)"
      ]
     },
     "execution_count": 96,
     "metadata": {},
     "output_type": "execute_result"
    }
   ],
   "source": [
    "df['Seniority level'] = df['Seniority level'].str.upper()\n",
    "df['Seniority level'] = df['Seniority level'].str.strip()\n",
    "df['Seniority level'] = df['Seniority level'].replace('NO IDEA, THERE ARE NO RANGES IN THE FIRM',np.nan)\n",
    "df['Seniority level'].unique()"
   ]
  },
  {
   "cell_type": "code",
   "execution_count": 97,
   "metadata": {},
   "outputs": [],
   "source": [
    "df = df[df['Yearly brutto salary (without bonus and stocks) in EUR'] < 500000000.0].copy()"
   ]
  },
  {
   "cell_type": "code",
   "execution_count": 99,
   "metadata": {},
   "outputs": [],
   "source": [
    "df.to_csv(\"IT Survey Europe 2020.csv\")"
   ]
  },
  {
   "cell_type": "code",
   "execution_count": null,
   "metadata": {},
   "outputs": [],
   "source": []
  }
 ],
 "metadata": {
  "kernelspec": {
   "display_name": ".venv",
   "language": "python",
   "name": "python3"
  },
  "language_info": {
   "codemirror_mode": {
    "name": "ipython",
    "version": 3
   },
   "file_extension": ".py",
   "mimetype": "text/x-python",
   "name": "python",
   "nbconvert_exporter": "python",
   "pygments_lexer": "ipython3",
   "version": "3.11.0"
  },
  "orig_nbformat": 4,
  "vscode": {
   "interpreter": {
    "hash": "f4d33b180ffd42d0942c3998075f53ee1d95bf325db36ac4f5e824b991a9f9de"
   }
  }
 },
 "nbformat": 4,
 "nbformat_minor": 2
}
